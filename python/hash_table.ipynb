{
 "cells": [
  {
   "cell_type": "markdown",
   "source": [
    "##  哈希表 python实现"
   ],
   "metadata": {}
  },
  {
   "cell_type": "code",
   "execution_count": 4,
   "source": [
    "\n",
    "arr = [1,2,3,4]\n",
    "n = 5\n",
    "if n in arr: \n",
    "    print(n)\n",
    "else:\n",
    "    print(\"不在\")\n",
    "    arr.append(n)\n",
    "    print(arr)"
   ],
   "outputs": [
    {
     "output_type": "stream",
     "name": "stdout",
     "text": [
      "不在\n",
      "[1, 2, 3, 4, 5]\n"
     ]
    }
   ],
   "metadata": {}
  },
  {
   "cell_type": "markdown",
   "source": [],
   "metadata": {}
  }
 ],
 "metadata": {
  "orig_nbformat": 4,
  "language_info": {
   "name": "python",
   "version": "3.6.12",
   "mimetype": "text/x-python",
   "codemirror_mode": {
    "name": "ipython",
    "version": 3
   },
   "pygments_lexer": "ipython3",
   "nbconvert_exporter": "python",
   "file_extension": ".py"
  },
  "kernelspec": {
   "name": "python3",
   "display_name": "Python 3.6.12 64-bit ('common': conda)"
  },
  "interpreter": {
   "hash": "23f77d03b5a41e4d3ddb9e0caaaf52efc8b96489adee7c10c83419330a6f57cc"
  }
 },
 "nbformat": 4,
 "nbformat_minor": 2
}