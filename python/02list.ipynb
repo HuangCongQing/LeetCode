{
 "cells": [
  {
   "cell_type": "code",
   "execution_count": 11,
   "metadata": {},
   "outputs": [
    {
     "name": "stdout",
     "output_type": "stream",
     "text": [
      "8\n",
      "统计次数count(1): 2\n",
      "匹配索引下标位置index(5) 2\n",
      "移除匹配项list.remove(obj)： None [1, 1, 8, 12, 13, 20, 22]\n"
     ]
    }
   ],
   "source": [
    "list1 = [1,1,5,8,12,13,20,22]\n",
    "print(len(list1))\n",
    "print(\"统计次数count(1):\", list1.count(1))\n",
    "print(\"匹配索引下标位置index(5)\", list1.index(5))\n",
    "print(\"移除匹配项list.remove(obj)：\", list1.remove(5), list1)"
   ]
  },
  {
   "cell_type": "code",
   "execution_count": 13,
   "metadata": {},
   "outputs": [
    {
     "name": "stdout",
     "output_type": "stream",
     "text": [
      "[1, 1, 8, 12, 13, 20, 22]\n"
     ]
    }
   ],
   "source": [
    "list1.sort( reverse=False) # reverse = True 降序， reverse = False 升序（默认）。\n",
    "print(list1)"
   ]
  },
  {
   "cell_type": "code",
   "execution_count": null,
   "metadata": {},
   "outputs": [],
   "source": []
  }
 ],
 "metadata": {
  "interpreter": {
   "hash": "6da98eacdef9d70d05690ff9a51cb11cd928be326ca4c66c5cb22400c3fb5833"
  },
  "kernelspec": {
   "display_name": "Python 3.6.12 64-bit ('common': conda)",
   "name": "python3"
  },
  "language_info": {
   "name": "python",
   "version": "3.6.12"
  },
  "orig_nbformat": 4
 },
 "nbformat": 4,
 "nbformat_minor": 2
}
